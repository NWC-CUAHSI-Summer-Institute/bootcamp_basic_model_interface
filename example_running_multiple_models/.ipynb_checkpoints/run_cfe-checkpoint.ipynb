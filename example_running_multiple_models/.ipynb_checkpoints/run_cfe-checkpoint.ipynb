{
 "cells": [
  {
   "cell_type": "markdown",
   "id": "0a3635bd",
   "metadata": {},
   "source": [
    "# Conceptual Functional Equivalent (CFE) Model\n",
    "This model is designed to be a simplified (conceptual) model of the National Water Model, which is functionally equivalent. This is an example run of the Python implimentation of the model.\n",
    "## bmi_cfe\n",
    "This is the code for the Basic Model Interface (BMI) that is used to call the cfe and interact with other models via the Framework, or driving code. This code contains all the required BMI functions to run the CFE, including \n",
    " - initialize: Perform startup tasks for the model.\n",
    " - update: Advance model state by one time step. Calls the function `run_cfe` from `cfe.py`\n",
    " - update_until: Advance model state until the given time.\n",
    " - finalize: Perform tear-down tasks for the model.\n",
    " - get_value: Get a copy of values of a given variable.\n",
    " - set_value: Set the values of a given variable.\n",
    " - etc.  \n",
    " These functions need to be called by a framework or driving code, an example of which is below."
   ]
  },
  {
   "cell_type": "code",
   "execution_count": null,
   "id": "4f1c9bb4",
   "metadata": {
    "tags": []
   },
   "outputs": [],
   "source": [
    "import time\n",
    "import numpy as np\n",
    "import pandas as pd\n",
    "import json\n",
    "import matplotlib.pyplot as plt\n",
    "import bmi_cfe"
   ]
  },
  {
   "cell_type": "markdown",
   "id": "81b22b83",
   "metadata": {},
   "source": [
    "### Create an instance of the model with a specific configuration that corresponds to a particular catchmenmt."
   ]
  },
  {
   "cell_type": "code",
   "execution_count": null,
   "id": "ce555bd9",
   "metadata": {
    "tags": []
   },
   "outputs": [],
   "source": [
    "cfe_instance = bmi_cfe.BMI_CFE()"
   ]
  },
  {
   "cell_type": "markdown",
   "id": "08fbe912",
   "metadata": {},
   "source": [
    "### This initialization function should perform all tasks that are to take place before entering the model’s time loop. Models should be refactored, if necessary, to read their inputs (which could include filenames for other input files) from a configuration file. BMI does not impose any constraint on how configuration files are formatted."
   ]
  },
  {
   "cell_type": "code",
   "execution_count": null,
   "id": "c05f5d19",
   "metadata": {
    "tags": []
   },
   "outputs": [],
   "source": [
    "cfe_instance.initialize('./cat_58_config_cfe.json')"
   ]
  },
  {
   "cell_type": "markdown",
   "id": "9fd1796b",
   "metadata": {},
   "source": [
    "### Open the forcing file contained within the configuration file. We can run the model with any forcing. This is only an example. The path to the forcing file is contained within the configuration file, but it doesn't really need to be. This is just for organization."
   ]
  },
  {
   "cell_type": "code",
   "execution_count": null,
   "id": "9941d994",
   "metadata": {
    "tags": []
   },
   "outputs": [],
   "source": [
    "with open(cfe_instance.forcing_file, 'r') as f:\n",
    "    df_forcing = pd.read_csv(f)"
   ]
  },
  {
   "cell_type": "markdown",
   "id": "eaf15e86",
   "metadata": {},
   "source": [
    "### We will want to visualize the model output"
   ]
  },
  {
   "cell_type": "code",
   "execution_count": null,
   "id": "ba07fb27",
   "metadata": {
    "tags": []
   },
   "outputs": [],
   "source": [
    "outputs=cfe_instance.get_output_var_names()\n",
    "output_lists = {output:[] for output in outputs}"
   ]
  },
  {
   "cell_type": "markdown",
   "id": "228ef248",
   "metadata": {},
   "source": [
    "### Now we loop through the forcing data and use it to run the model at each time step"
   ]
  },
  {
   "cell_type": "code",
   "execution_count": null,
   "id": "14ba35f4",
   "metadata": {
    "tags": []
   },
   "outputs": [],
   "source": [
    "for precip in df_forcing['APCP_surface']:\n",
    "    \n",
    "    cfe_instance.set_value('atmosphere_water__time_integral_of_precipitation_mass_flux', precip)\n",
    "    \n",
    "    cfe_instance.update()\n",
    "    \n",
    "    for output in outputs:\n",
    "    \n",
    "        output_lists[output].append(cfe_instance.get_value(output))\n",
    "        "
   ]
  },
  {
   "cell_type": "markdown",
   "id": "7ce2e5e6",
   "metadata": {},
   "source": [
    "### The finalize function should perform all tasks that take place after exiting the model’s time loop. This typically includes deallocating memory, closing files and printing reports."
   ]
  },
  {
   "cell_type": "code",
   "execution_count": null,
   "id": "b8bc6e9a",
   "metadata": {
    "tags": []
   },
   "outputs": [],
   "source": [
    "cfe_instance.finalize(print_mass_balance=True)"
   ]
  },
  {
   "cell_type": "markdown",
   "id": "8b72aaa2",
   "metadata": {},
   "source": [
    "### Here we are just plotting the fluxes."
   ]
  },
  {
   "cell_type": "code",
   "execution_count": null,
   "id": "ef6adb2e",
   "metadata": {
    "tags": []
   },
   "outputs": [],
   "source": [
    "istart_plot=490\n",
    "iend_plot=550\n",
    "x = list(range(istart_plot, iend_plot))\n",
    "for output in outputs:\n",
    "    plt.plot(x, output_lists[output][istart_plot:iend_plot], label=output)\n",
    "    plt.title(output)\n",
    "    plt.legend()\n",
    "    plt.show()\n",
    "    plt.close()"
   ]
  },
  {
   "cell_type": "markdown",
   "id": "d3aa92d1",
   "metadata": {},
   "source": [
    "### Here we are just going to run the unit test that compares with the origional author code. Kind of the same thing done above, but there is a function in the BMI code that does it all at once."
   ]
  },
  {
   "cell_type": "code",
   "execution_count": null,
   "id": "6b30564c",
   "metadata": {
    "tags": []
   },
   "outputs": [],
   "source": [
    "cfe_instance2 = bmi_cfe.BMI_CFE()\n",
    "cfe_instance2.initialize('./cat_58_config_cfe.json')\n",
    "cfe_instance2.run_unit_test(plot=True, print_fluxes=False)\n",
    "cfe_instance2.finalize()"
   ]
  },
  {
   "cell_type": "code",
   "execution_count": null,
   "id": "e70be184-4f75-4748-a703-101af511664b",
   "metadata": {},
   "outputs": [],
   "source": []
  }
 ],
 "metadata": {
  "kernelspec": {
   "display_name": "Python 3 (ipykernel)",
   "language": "python",
   "name": "python3"
  },
  "language_info": {
   "codemirror_mode": {
    "name": "ipython",
    "version": 3
   },
   "file_extension": ".py",
   "mimetype": "text/x-python",
   "name": "python",
   "nbconvert_exporter": "python",
   "pygments_lexer": "ipython3",
   "version": "3.9.16"
  }
 },
 "nbformat": 4,
 "nbformat_minor": 5
}

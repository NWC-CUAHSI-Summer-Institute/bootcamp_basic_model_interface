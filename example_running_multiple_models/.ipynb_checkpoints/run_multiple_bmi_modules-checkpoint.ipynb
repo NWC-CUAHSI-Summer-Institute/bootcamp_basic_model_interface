{
 "cells": [
  {
   "cell_type": "markdown",
   "id": "0a3635bd",
   "metadata": {},
   "source": [
    "# Running multiple models with BMI in one \"Framework\"\n",
    "This is not the Nextgen framework, this is an example of a simple framework.\n",
    "## Conceptual Functional Equivalent (CFE) Model\n",
    "## Penman function for an estimate of evaporation\n",
    "## Bucket model representing some downstream reservoir"
   ]
  },
  {
   "cell_type": "code",
   "execution_count": null,
   "id": "4f1c9bb4",
   "metadata": {
    "tags": []
   },
   "outputs": [],
   "source": [
    "import time\n",
    "import numpy as np\n",
    "import pandas as pd\n",
    "import json\n",
    "import matplotlib.pyplot as plt\n",
    "import sys\n",
    "\n",
    "# Load in each of our three models that we want to combine\n",
    "sys.path.insert(0, './cfe')\n",
    "import bmi_cfe\n",
    "sys.path.insert(0, './penman')\n",
    "import bmi_penman\n",
    "sys.path.insert(0, './bucket')\n",
    "import bmi_bucket"
   ]
  },
  {
   "cell_type": "markdown",
   "id": "81b22b83",
   "metadata": {},
   "source": [
    "### Create an instance of each model."
   ]
  },
  {
   "cell_type": "code",
   "execution_count": null,
   "id": "ce555bd9",
   "metadata": {
    "tags": []
   },
   "outputs": [],
   "source": [
    "cfe_instance = bmi_cfe.BMI_CFE()\n",
    "penman_instance = bmi_penman.BMI_PENMAN()\n",
    "bucket_instance = bmi_bucket.BMI_BUCKET()"
   ]
  },
  {
   "cell_type": "markdown",
   "id": "08fbe912",
   "metadata": {},
   "source": [
    "### Initialize each model with the specific configuration that corresponds to a particular catchmenmt."
   ]
  },
  {
   "cell_type": "code",
   "execution_count": null,
   "id": "c05f5d19",
   "metadata": {
    "tags": []
   },
   "outputs": [],
   "source": [
    "cfe_instance.initialize(cfg_file='./cfe/cat_58_config_cfe.json')\n",
    "penman_instance.initialize(cfg_file='./penman/cat_58_config_penman.json')\n",
    "bucket_instance.initialize(cfg_file='./bucket/cat_58_config_bucket.json')"
   ]
  },
  {
   "cell_type": "markdown",
   "id": "172b1a1a-eef9-4706-91ce-45dc79528399",
   "metadata": {},
   "source": [
    "### Chech the input and output variable names for each of our models"
   ]
  },
  {
   "cell_type": "code",
   "execution_count": null,
   "id": "a359d776-6f0b-47b7-8f67-1046a899b3ff",
   "metadata": {
    "tags": []
   },
   "outputs": [],
   "source": [
    "for model in [cfe_instance, penman_instance, bucket_instance]:\n",
    "    print(\"------------------------------------\")\n",
    "    print(model)\n",
    "    print(model.get_input_var_names())\n",
    "    print(model.get_output_var_names())\n",
    "    print(\"\\n\")"
   ]
  },
  {
   "cell_type": "markdown",
   "id": "9fd1796b",
   "metadata": {},
   "source": [
    "### Open the forcing file contained within the configuration file. We can run the model with any forcing. This is only an example. The path to the forcing file is contained within the configuration file, but it doesn't really need to be. This is just for organization."
   ]
  },
  {
   "cell_type": "code",
   "execution_count": null,
   "id": "9941d994",
   "metadata": {
    "tags": []
   },
   "outputs": [],
   "source": [
    "with open(cfe_instance.forcing_file, 'r') as f:\n",
    "    df_forcing = pd.read_csv(f)"
   ]
  },
  {
   "cell_type": "markdown",
   "id": "eaf15e86",
   "metadata": {},
   "source": [
    "### We will want to visualize the model output"
   ]
  },
  {
   "cell_type": "code",
   "execution_count": null,
   "id": "ba07fb27",
   "metadata": {
    "tags": []
   },
   "outputs": [],
   "source": [
    "cfe_outputs=cfe_instance.get_output_var_names()\n",
    "cfe_output_lists = {output:[] for output in cfe_outputs}\n",
    "\n",
    "penman_outputs=penman_instance.get_output_var_names()\n",
    "penman_output_lists = {output:[] for output in penman_outputs}\n",
    "\n",
    "bucket_outputs=bucket_instance.get_output_var_names()\n",
    "bucket_output_lists = {output:[] for output in bucket_outputs}"
   ]
  },
  {
   "cell_type": "markdown",
   "id": "5b0e6307-7520-4cd2-8c09-7fc1116cd383",
   "metadata": {},
   "source": [
    "### Check the time step of each model"
   ]
  },
  {
   "cell_type": "code",
   "execution_count": null,
   "id": "dc83a065-e829-462e-8bed-1265aa28d260",
   "metadata": {
    "tags": []
   },
   "outputs": [],
   "source": [
    "for model in [cfe_instance, penman_instance, bucket_instance]:\n",
    "    print(model)\n",
    "    print(model.get_time_step())"
   ]
  },
  {
   "cell_type": "markdown",
   "id": "228ef248",
   "metadata": {},
   "source": [
    "### Now we loop through the forcing data and use it to run the model at each time step\n",
    "Decide below if you want to run a time step on the model with the finest time step,  \n",
    "Or if you run the coarser timestep and upate-until the model with the finer time step."
   ]
  },
  {
   "cell_type": "code",
   "execution_count": null,
   "id": "19a6c70e-b997-4dce-9092-f64c03ebcb6e",
   "metadata": {
    "tags": []
   },
   "outputs": [],
   "source": [
    "run_hourly_timestep = True"
   ]
  },
  {
   "cell_type": "code",
   "execution_count": null,
   "id": "f600769f-e0d4-4613-9252-461d77f2fd61",
   "metadata": {
    "tags": []
   },
   "outputs": [],
   "source": [
    "if not run_hourly_timestep:\n",
    "    for i in range(0, df_forcing['APCP_surface'].shape[0]*3600, 100):\n",
    "\n",
    "        if (i % 3600 == 0):\n",
    "\n",
    "            hour_of_simulation = i/3600\n",
    "\n",
    "            precip = df_forcing.loc[hour_of_simulation, 'APCP_surface']\n",
    "            TMP_2maboveground = df_forcing.loc[hour_of_simulation, 'TMP_2maboveground']\n",
    "\n",
    "            # Estimate the evaporation\n",
    "            penman_instance.set_value('land_surface_air__temperature', TMP_2maboveground)\n",
    "            penman_instance.update()\n",
    "            e = penman_instance.get_value(\"land_surface_water__evaporation_volume_flux\")\n",
    "            \n",
    "            # Run the hydrology model\n",
    "            cfe_instance.set_value('water_potential_evaporation_flux', e/1000)    \n",
    "            cfe_instance.set_value('atmosphere_water__time_integral_of_precipitation_mass_flux', precip)    \n",
    "            cfe_instance.update()\n",
    "\n",
    "        # Watershed flows into some reservoir\n",
    "        into_bucket = cfe_instance.get_value(\"land_surface_water__runoff_depth\")\n",
    "        bucket_instance.set_value('water__input_volume_flux', into_bucket)\n",
    "        bucket_instance.set_value('water_potential_evaporation_flux', e/1000)\n",
    "        bucket_instance.update()#_until(framework_time)\n",
    "\n",
    "\n",
    "        if (i % 3600 == 0):\n",
    "            for output in cfe_outputs:\n",
    "\n",
    "                cfe_output_lists[output].append(cfe_instance.get_value(output))\n",
    "\n",
    "            for output in penman_outputs:\n",
    "\n",
    "                penman_output_lists[output].append(penman_instance.get_value(output))\n",
    "\n",
    "            for output in bucket_outputs:\n",
    "\n",
    "                bucket_output_lists[output].append(bucket_instance.get_value(output))\n"
   ]
  },
  {
   "cell_type": "code",
   "execution_count": null,
   "id": "14ba35f4",
   "metadata": {
    "tags": []
   },
   "outputs": [],
   "source": [
    "if run_hourly_timestep:\n",
    "\n",
    "    for i, precip in enumerate(df_forcing['APCP_surface']):\n",
    "\n",
    "        framework_time = (1+i)*3600 # Seconds since starting simulation\n",
    "\n",
    "        # Estimate the evaporation\n",
    "        penman_instance.set_value('land_surface_air__temperature', df_forcing.loc[i,'TMP_2maboveground'])\n",
    "\n",
    "        penman_instance.update()\n",
    "\n",
    "        e = penman_instance.get_value(\"land_surface_water__evaporation_volume_flux\")\n",
    "\n",
    "        # Run the hydrology model\n",
    "        cfe_instance.set_value('water_potential_evaporation_flux', e/1000)    \n",
    "        cfe_instance.set_value('atmosphere_water__time_integral_of_precipitation_mass_flux', precip)    \n",
    "        cfe_instance.update()\n",
    "\n",
    "        # Watershed flows into some reservoir\n",
    "        into_bucket = cfe_instance.get_value(\"land_surface_water__runoff_depth\")\n",
    "        bucket_instance.set_value('water__input_volume_flux', into_bucket)\n",
    "        bucket_instance.set_value('water_potential_evaporation_flux', e/1000)\n",
    "        bucket_instance.update_until(framework_time)\n",
    "\n",
    "        for output in cfe_outputs:\n",
    "\n",
    "            cfe_output_lists[output].append(cfe_instance.get_value(output))\n",
    "\n",
    "\n",
    "        for output in penman_outputs:\n",
    "            \n",
    "            penman_output_lists[output].append(penman_instance.get_value(output))\n",
    "\n",
    "        for output in bucket_outputs:\n",
    "\n",
    "            bucket_output_lists[output].append(bucket_instance.get_value(output))\n"
   ]
  },
  {
   "cell_type": "markdown",
   "id": "7ce2e5e6",
   "metadata": {},
   "source": [
    "### The finalize function should perform all tasks that take place after exiting the model’s time loop. This typically includes deallocating memory, closing files and printing reports."
   ]
  },
  {
   "cell_type": "code",
   "execution_count": null,
   "id": "b8bc6e9a",
   "metadata": {
    "tags": []
   },
   "outputs": [],
   "source": [
    "cfe_instance.finalize(print_mass_balance=True)\n",
    "bucket_instance.finalize(print_mass_balance=True)\n",
    "penman_instance.finalize()"
   ]
  },
  {
   "cell_type": "markdown",
   "id": "8b72aaa2",
   "metadata": {},
   "source": [
    "### Here we are just plotting the fluxes."
   ]
  },
  {
   "cell_type": "code",
   "execution_count": null,
   "id": "ef6adb2e",
   "metadata": {
    "tags": []
   },
   "outputs": [],
   "source": [
    "istart_plot=0\n",
    "iend_plot=550\n",
    "x = list(range(istart_plot, iend_plot))\n",
    "for output in bucket_outputs:\n",
    "    plt.plot(x, bucket_output_lists[output][istart_plot:iend_plot], label=output)\n",
    "    plt.title(output)\n",
    "    plt.legend()\n",
    "    plt.show()\n",
    "    \n",
    "    plt.close()\n",
    "for output in cfe_outputs:\n",
    "    plt.plot(x, cfe_output_lists[output][istart_plot:iend_plot], label=output)\n",
    "    plt.title(output)\n",
    "    plt.legend()\n",
    "    plt.show()\n",
    "    plt.close()\n",
    "for output in penman_outputs:\n",
    "    plt.plot(x, penman_output_lists[output][istart_plot:iend_plot], label=output)\n",
    "    plt.title(output)\n",
    "    plt.legend()\n",
    "    plt.show()\n",
    "    plt.close()"
   ]
  },
  {
   "cell_type": "markdown",
   "id": "d3aa92d1",
   "metadata": {},
   "source": [
    "### Here we are just going to run the unit test that compares with the origional author code. Kind of the same thing done above, but there is a function in the BMI code that does it all at once."
   ]
  },
  {
   "cell_type": "code",
   "execution_count": null,
   "id": "3e6fabe2-5891-4685-bde0-91ef233b64c1",
   "metadata": {
    "tags": []
   },
   "outputs": [],
   "source": [
    "cfe1 = bmi_cfe.BMI_CFE()\n",
    "cfe1.initialize(cfg_file='./cfe/cat_58_config_cfe.json')\n",
    "cfe1.run_unit_test(print_fluxes=True, plot=True)\n",
    "print(cfe1.cfe_output_data)\n",
    "cfe1.finalize(print_mass_balance=True)"
   ]
  },
  {
   "cell_type": "code",
   "execution_count": null,
   "id": "e0fac851-48b5-4b7a-82c7-b867bbacb6c8",
   "metadata": {},
   "outputs": [],
   "source": []
  }
 ],
 "metadata": {
  "kernelspec": {
   "display_name": "Python [conda env:root] *",
   "language": "python",
   "name": "conda-root-py"
  },
  "language_info": {
   "codemirror_mode": {
    "name": "ipython",
    "version": 3
   },
   "file_extension": ".py",
   "mimetype": "text/x-python",
   "name": "python",
   "nbconvert_exporter": "python",
   "pygments_lexer": "ipython3",
   "version": "3.9.16"
  }
 },
 "nbformat": 4,
 "nbformat_minor": 5
}
